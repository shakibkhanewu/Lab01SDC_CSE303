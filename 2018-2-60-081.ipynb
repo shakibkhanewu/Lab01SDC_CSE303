{
  "nbformat": 4,
  "nbformat_minor": 0,
  "metadata": {
    "colab": {
      "name": "Untitled0.ipynb",
      "provenance": [],
      "collapsed_sections": []
    },
    "kernelspec": {
      "name": "python3",
      "display_name": "Python 3"
    },
    "language_info": {
      "name": "python"
    }
  },
  "cells": [
    {
      "cell_type": "code",
      "execution_count": 3,
      "metadata": {
        "colab": {
          "base_uri": "https://localhost:8080/"
        },
        "id": "o9C6IgnhvP5q",
        "outputId": "66486fd3-4909-44db-ae16-792d95fcb867"
      },
      "outputs": [
        {
          "output_type": "stream",
          "name": "stdout",
          "text": [
            "Enter number 1: 45\n",
            "Enter number 2: 67\n",
            "112\n"
          ]
        }
      ],
      "source": [
        "##1\n",
        "a = int(input(\"Enter number 1: \"))\n",
        "\n",
        "b = int(input(\"Enter number 2: \"))\n",
        "\n",
        "prod = a*b\n",
        "\n",
        "if prod > 1000:\n",
        "\n",
        " print(a+b)\n",
        "\n",
        "else:\n",
        "\n",
        " print(prod)"
      ]
    },
    {
      "cell_type": "code",
      "source": [
        "##2\n",
        "\n",
        "r=float(input(\"Input Radius : \"))\n",
        "area=3.14*r*r\n",
        "perimeter=2*3.14*r\n",
        "print(\"Area of Circle: \",area)\n",
        "print(\"Perimeter of Circle: \",perimeter)"
      ],
      "metadata": {
        "colab": {
          "base_uri": "https://localhost:8080/"
        },
        "id": "TkodBsOFL2MY",
        "outputId": "c3cf2e76-1815-45a7-f9d9-361515d59cdc"
      },
      "execution_count": 4,
      "outputs": [
        {
          "output_type": "stream",
          "name": "stdout",
          "text": [
            "Input Radius : 4.33\n",
            "Area of Circle:  58.87154600000001\n",
            "Perimeter of Circle:  27.192400000000003\n"
          ]
        }
      ]
    },
    {
      "cell_type": "code",
      "source": [
        "##3\n",
        "\n",
        "def compound_interest_2018_2_60_081 (principle, rate, time):\n",
        "    result = principle * (pow((1 + rate / 100), time))\n",
        "    return result\n",
        "\n",
        "\n",
        "p = float(input(\"Enter the principal amount: \"))\n",
        "r = float(input(\"Enter the interest rate: \"))\n",
        "t = float(input(\"Enter the time in years: \"))\n",
        "\n",
        "amount = compound_interest_2018_2_60_081 (p, r, t)\n",
        "interest = amount - p\n",
        "print(\"Compound amount is %.2f\" % amount)\n",
        "print(\"Compound interest is %.2f\" % interest)"
      ],
      "metadata": {
        "colab": {
          "base_uri": "https://localhost:8080/"
        },
        "id": "bqddp7PEMA9x",
        "outputId": "f3c66e7d-cd77-44ec-d37b-455ccfdbda6f"
      },
      "execution_count": 5,
      "outputs": [
        {
          "output_type": "stream",
          "name": "stdout",
          "text": [
            "Enter the principal amount: 34000\n",
            "Enter the interest rate: 7.4\n",
            "Enter the time in years: 6\n",
            "Compound amount is 52180.06\n",
            "Compound interest is 18180.06\n"
          ]
        }
      ]
    },
    {
      "cell_type": "code",
      "source": [
        "##4\n",
        "\n",
        "n=int(input(\"enter n: \"))\n",
        "\n",
        "ans=n*(n + 1)*(2*n + 1)\n",
        "\n",
        "ans=ans/6\n",
        "\n",
        "print(ans)"
      ],
      "metadata": {
        "colab": {
          "base_uri": "https://localhost:8080/"
        },
        "id": "6eC8cHOpMPPy",
        "outputId": "c71679b8-b516-4343-af61-27f05e253dfe"
      },
      "execution_count": 7,
      "outputs": [
        {
          "output_type": "stream",
          "name": "stdout",
          "text": [
            "enter n: 10\n",
            "385.0\n"
          ]
        }
      ]
    },
    {
      "cell_type": "code",
      "source": [
        "##5\n",
        "\n",
        "def prime_find_2018_2_60_081(n,a):\n",
        " a=True\n",
        " \n",
        " for i in range(2, n-2,1 ):\n",
        "     if(n%i==0):\n",
        "      a=False\n",
        "      print(\"It's not a prime number\")\n",
        "      break    \n",
        "\n",
        " if(a):\n",
        "  print(\"It's a prime number\")\n",
        "\n",
        "n=int(input(\"enter a number: \"))\n",
        "\n",
        "\n",
        "\n",
        "prime_find_2018_2_60_081(n,True)\n"
      ],
      "metadata": {
        "colab": {
          "base_uri": "https://localhost:8080/"
        },
        "id": "9I3NHjpGMZPg",
        "outputId": "7b054c31-ca31-4986-e40d-60fd5fa4458e"
      },
      "execution_count": 8,
      "outputs": [
        {
          "output_type": "stream",
          "name": "stdout",
          "text": [
            "enter a number: 101\n",
            "It's a prime number\n"
          ]
        }
      ]
    },
    {
      "cell_type": "code",
      "source": [
        "##6\n",
        "\n",
        "def Fibonacci(n):\n",
        "    if n<= 0:\n",
        "        print(\"Incorrect input\")\n",
        "\n",
        "    elif n == 1:\n",
        "        return 0\n",
        "\n",
        "    elif n == 2:\n",
        "        return 1\n",
        "    else:\n",
        "        return Fibonacci(n-1)+Fibonacci(n-2)\n",
        " \n",
        "n = int(input(\"Enter the number : \"))\n",
        " \n",
        "print(Fibonacci(n)) "
      ],
      "metadata": {
        "colab": {
          "base_uri": "https://localhost:8080/"
        },
        "id": "RJ3eRrK8MqzQ",
        "outputId": "319ee40c-3fb5-479b-dc24-f68d1a67a089"
      },
      "execution_count": 9,
      "outputs": [
        {
          "output_type": "stream",
          "name": "stdout",
          "text": [
            "Enter the number : 7\n",
            "8\n"
          ]
        }
      ]
    },
    {
      "cell_type": "code",
      "source": [
        "##7\n",
        "a=[6,7,8,9,10]\n",
        "\n",
        "sum=0\n",
        "\n",
        "def summation(sum):\n",
        " \n",
        "        for i in range (0,len(a),1):\n",
        "            sum+=a[i]\n",
        "    \n",
        "        return sum\n",
        "\n",
        "print( summation(sum) )\n"
      ],
      "metadata": {
        "colab": {
          "base_uri": "https://localhost:8080/"
        },
        "id": "TKOsSabZMzFY",
        "outputId": "85f29fdf-8a7a-4d32-978d-4414d3ac4036"
      },
      "execution_count": 11,
      "outputs": [
        {
          "output_type": "stream",
          "name": "stdout",
          "text": [
            "40\n"
          ]
        }
      ]
    },
    {
      "cell_type": "code",
      "source": [
        "##8\n",
        "\n",
        "l=[1,2,3,4,5]\n",
        "\n",
        "sum=0\n",
        "\n",
        "def summation(sum):\n",
        " \n",
        "        for i in range (0,len(l),1):\n",
        "            if(i%2==0):\n",
        "             sum+=l[i]\n",
        "    \n",
        "        return sum\n",
        "\n",
        "print( summation(sum) )"
      ],
      "metadata": {
        "colab": {
          "base_uri": "https://localhost:8080/"
        },
        "id": "yZpBo1gZM-xw",
        "outputId": "2d31e0c8-ed12-4016-bd79-27be12ecc765"
      },
      "execution_count": 14,
      "outputs": [
        {
          "output_type": "stream",
          "name": "stdout",
          "text": [
            "9\n"
          ]
        }
      ]
    },
    {
      "cell_type": "code",
      "source": [
        "##9\n",
        "a=[]\n",
        "\n",
        "n=int(input(\"Enter the number of elements: \"))\n",
        "\n",
        "for i in range (0,n,1):\n",
        "        a.append(int(input()))\n",
        "        \n",
        "\n",
        "maximum=a[0]\n",
        "minimum=a[0]\n",
        "\n",
        "def max_2018_2_60_081(maximum):\n",
        "    \n",
        "    for i in range (0,len(a),1):\n",
        "      if(a[i]>maximum):\n",
        "          maximum=a[i]\n",
        "\n",
        "    return maximum\n",
        "\n",
        "def min_2018_2_60_081(mainimum):\n",
        "    \n",
        "    for i in range (0,len(a),1):\n",
        "       if(mainimum>a[i]):\n",
        "           mainimum=a[i]\n",
        "           \n",
        "    return mainimum\n",
        "\n",
        "print( max_2018_2_60_081(maximum) )\n",
        "\n",
        "print(min_2018_2_60_081(minimum))\n",
        "\n"
      ],
      "metadata": {
        "colab": {
          "base_uri": "https://localhost:8080/"
        },
        "id": "eVqgQ93fNjQS",
        "outputId": "0a3218fa-82bb-4f68-8a6a-a13b170cdde5"
      },
      "execution_count": 17,
      "outputs": [
        {
          "output_type": "stream",
          "name": "stdout",
          "text": [
            "Enter the number of elements: 2\n",
            "3\n",
            "19\n",
            "19\n",
            "3\n"
          ]
        }
      ]
    },
    {
      "cell_type": "code",
      "source": [
        "##10\n",
        "\n",
        "a=[3,11,15,40,39]\n",
        "\n",
        "x=sorted(a)\n",
        "\n",
        "print(x[len(a)-2])"
      ],
      "metadata": {
        "colab": {
          "base_uri": "https://localhost:8080/"
        },
        "id": "oZkDMWJzOJRp",
        "outputId": "e4de52d7-fc0f-4e2f-d2ec-4cb2ede07f92"
      },
      "execution_count": 19,
      "outputs": [
        {
          "output_type": "stream",
          "name": "stdout",
          "text": [
            "39\n"
          ]
        }
      ]
    },
    {
      "cell_type": "code",
      "source": [
        "##11\n",
        "\n",
        "s=input(\"enter s: \")\n",
        "\n",
        "for i in range (0,len(s),1):\n",
        "    if(i%2==0):\n",
        "        print(s[i])"
      ],
      "metadata": {
        "colab": {
          "base_uri": "https://localhost:8080/"
        },
        "id": "7bUAY8XUOX4I",
        "outputId": "a43a87e2-6682-44ab-c323-7565657ebb15"
      },
      "execution_count": 20,
      "outputs": [
        {
          "output_type": "stream",
          "name": "stdout",
          "text": [
            "enter s: 34\n",
            "3\n"
          ]
        }
      ]
    },
    {
      "cell_type": "code",
      "source": [
        "##12"
      ],
      "metadata": {
        "id": "8wht77bcOkXI"
      },
      "execution_count": null,
      "outputs": []
    },
    {
      "cell_type": "code",
      "source": [
        "def rem(s,n):\n",
        "    \n",
        "   list=[]\n",
        "    \n",
        "   for i in range(n,len(s),1):\n",
        "       list.append(s[i])\n",
        "             \n",
        "   return list\n",
        "\n",
        "s=input()\n",
        "n=int(input())\n",
        "\n",
        "print( rem(s,n) )"
      ],
      "metadata": {
        "colab": {
          "base_uri": "https://localhost:8080/"
        },
        "id": "UZR7-lwKOnwo",
        "outputId": "448d791b-df74-4548-d718-3020e6f20764"
      },
      "execution_count": 21,
      "outputs": [
        {
          "output_type": "stream",
          "name": "stdout",
          "text": [
            "12\n",
            "1\n",
            "['2']\n"
          ]
        }
      ]
    },
    {
      "cell_type": "code",
      "source": [
        "##14"
      ],
      "metadata": {
        "id": "9azGU7UkOtIY"
      },
      "execution_count": null,
      "outputs": []
    },
    {
      "cell_type": "code",
      "source": [
        "def palindrome_checker_2018_2_60_081(s,n):\n",
        "    \n",
        "   for i in range (0,(int(len(s)/2)),1):\n",
        "        if(s[i]!=s[n-i-1]):\n",
        "            return False\n",
        "                   \n",
        "                        \n",
        "   return True\n",
        "\n",
        "s=input()\n",
        "\n",
        "print(palindrome_checker_2018_2_60_081(s,len(s)))\n"
      ],
      "metadata": {
        "colab": {
          "base_uri": "https://localhost:8080/"
        },
        "id": "00IH1rrQOuFh",
        "outputId": "6ce8c70c-622e-4c62-c2b5-1fc6b10d4486"
      },
      "execution_count": 22,
      "outputs": [
        {
          "output_type": "stream",
          "name": "stdout",
          "text": [
            "23232020\n",
            "False\n"
          ]
        }
      ]
    },
    {
      "cell_type": "code",
      "source": [
        "##15\n",
        "\n",
        "list1=[1,2,3,4,5,6]\n",
        "list2=[7,8,9,10,11,12]\n",
        "   \n",
        "a=[]\n",
        "b=[]\n",
        "\n",
        "n=len(list1)\n",
        "\n",
        "for i in range (0,n,1):\n",
        "    if(list1[i]%2==0):\n",
        "        a.append(list1[i])\n",
        "    if(list2[i]%2==1):\n",
        "        b.append(list2[i])\n",
        "        \n",
        "        \n",
        "print(a)\n",
        "print(b)"
      ],
      "metadata": {
        "colab": {
          "base_uri": "https://localhost:8080/"
        },
        "id": "JKlf9oeRO7_x",
        "outputId": "d45906d3-5438-43ff-8d0c-556a30fe0cef"
      },
      "execution_count": 23,
      "outputs": [
        {
          "output_type": "stream",
          "name": "stdout",
          "text": [
            "[2, 4, 6]\n",
            "[7, 9, 11]\n"
          ]
        }
      ]
    }
  ]
}